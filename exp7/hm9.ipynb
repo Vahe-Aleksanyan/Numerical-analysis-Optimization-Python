{
  "nbformat": 4,
  "nbformat_minor": 0,
  "metadata": {
    "colab": {
      "provenance": []
    },
    "kernelspec": {
      "name": "python3",
      "display_name": "Python 3"
    },
    "language_info": {
      "name": "python"
    }
  },
  "cells": [
    {
      "cell_type": "code",
      "execution_count": 1,
      "metadata": {
        "colab": {
          "base_uri": "https://localhost:8080/"
        },
        "id": "ENnbYGDWyzPr",
        "outputId": "08ba8514-03fd-4725-fa0e-0335fef51226"
      },
      "outputs": [
        {
          "output_type": "stream",
          "name": "stdout",
          "text": [
            "Solution x: [ 1. -1.  1. -1.]\n"
          ]
        }
      ],
      "source": [
        "import numpy as np\n",
        "\n",
        "def LU_factorization(A, b):\n",
        "    n = len(A)\n",
        "\n",
        "    # Initialize L and U matrices\n",
        "    L = np.eye(n)\n",
        "    U = np.zeros((n, n))\n",
        "\n",
        "    # Perform LU factorization\n",
        "    for k in range(n):\n",
        "        U[k, k:] = A[k, k:] - L[k, :k] @ U[:k, k:]\n",
        "        L[(k+1):, k] = (A[(k+1):, k] - L[(k+1):, :] @ U[:, k]) / U[k, k]\n",
        "\n",
        "    # Solve Ly = b using forward substitution\n",
        "    y = np.zeros(n)\n",
        "    for i in range(n):\n",
        "        y[i] = b[i] - L[i, :i] @ y[:i]\n",
        "\n",
        "    # Solve Ux = y using backward substitution\n",
        "    x = np.zeros(n)\n",
        "    for i in range(n - 1, -1, -1):\n",
        "        x[i] = (y[i] - U[i, (i+1):] @ x[(i+1):]) / U[i, i]\n",
        "\n",
        "    return x\n",
        "\n",
        "# Define the matrix A and vector b\n",
        "A = np.array([[2, 2, 2, 2],\n",
        "              [3, 6, 9, 9],\n",
        "              [1, 2, 4, 5],\n",
        "              [2, 4, 8, 12]])\n",
        "\n",
        "b = np.array([0, -3, -2, -6])\n",
        "\n",
        "# Call the LU_factorization function\n",
        "solution = LU_factorization(A, b)\n",
        "\n",
        "print(\"Solution x:\", solution)\n"
      ]
    }
  ]
}