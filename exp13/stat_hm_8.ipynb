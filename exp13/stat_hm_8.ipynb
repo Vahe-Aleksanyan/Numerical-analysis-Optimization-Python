{
  "nbformat": 4,
  "nbformat_minor": 0,
  "metadata": {
    "colab": {
      "provenance": []
    },
    "kernelspec": {
      "name": "python3",
      "display_name": "Python 3"
    },
    "language_info": {
      "name": "python"
    }
  },
  "cells": [
    {
      "cell_type": "code",
      "execution_count": 6,
      "metadata": {
        "colab": {
          "base_uri": "https://localhost:8080/"
        },
        "id": "KKrSCVdlin_z",
        "outputId": "11336b07-3574-4fbf-bcee-d0238eec4e5b"
      },
      "outputs": [
        {
          "output_type": "stream",
          "name": "stdout",
          "text": [
            "   N  AppraisedValue  PropertySize  HouseSize  Age  Rooms  Baths  Garage\n",
            "0  1           466.0           929        227   46      7    3.5       2\n",
            "1  2           364.0           887        180   51      7    2.5       1\n",
            "2  3           429.0           659        193   29      5    3.0       2\n",
            "3  4           548.4          1864        251   18      8    2.5       1\n",
            "4  5           405.9          1031        190   46      7    1.5       1\n",
            "N                 0\n",
            "AppraisedValue    0\n",
            "PropertySize      0\n",
            "HouseSize         0\n",
            "Age               0\n",
            "Rooms             0\n",
            "Baths             0\n",
            "Garage            0\n",
            "dtype: int64\n",
            "                            OLS Regression Results                            \n",
            "==============================================================================\n",
            "Dep. Variable:         AppraisedValue   R-squared:                       0.848\n",
            "Model:                            OLS   Adj. R-squared:                  0.808\n",
            "Method:                 Least Squares   F-statistic:                     21.37\n",
            "Date:                Sun, 12 May 2024   Prob (F-statistic):           2.45e-08\n",
            "Time:                        16:21:40   Log-Likelihood:                -157.53\n",
            "No. Observations:                  30   AIC:                             329.1\n",
            "Df Residuals:                      23   BIC:                             338.9\n",
            "Df Model:                           6                                         \n",
            "Covariance Type:            nonrobust                                         \n",
            "================================================================================\n",
            "                   coef    std err          t      P>|t|      [0.025      0.975]\n",
            "--------------------------------------------------------------------------------\n",
            "const           82.1599     68.663      1.197      0.244     -59.880     224.200\n",
            "PropertySize     0.0722      0.020      3.618      0.001       0.031       0.113\n",
            "HouseSize        1.0867      0.300      3.617      0.001       0.465       1.708\n",
            "Age             -1.2530      0.550     -2.277      0.032      -2.391      -0.115\n",
            "Rooms           10.6993      7.519      1.423      0.168      -4.854      26.253\n",
            "Baths            6.4089     18.418      0.348      0.731     -31.691      44.509\n",
            "Garage          15.8530     16.722      0.948      0.353     -18.739      50.445\n",
            "==============================================================================\n",
            "Omnibus:                        0.474   Durbin-Watson:                   2.019\n",
            "Prob(Omnibus):                  0.789   Jarque-Bera (JB):                0.276\n",
            "Skew:                          -0.228   Prob(JB):                        0.871\n",
            "Kurtosis:                       2.885   Cond. No.                     8.28e+03\n",
            "==============================================================================\n",
            "\n",
            "Notes:\n",
            "[1] Standard Errors assume that the covariance matrix of the errors is correctly specified.\n",
            "[2] The condition number is large, 8.28e+03. This might indicate that there are\n",
            "strong multicollinearity or other numerical problems.\n"
          ]
        }
      ],
      "source": [
        "import pandas as pd\n",
        "import statsmodels.api as sm\n",
        "from statsmodels.stats.outliers_influence import variance_inflation_factor\n",
        "\n",
        "data = pd.read_csv('/content/Problem 2 (1).csv')\n",
        "\n",
        "\n",
        "print(data.head())\n",
        "\n",
        "\n",
        "print(data.isnull().sum())\n",
        "\n",
        "X = data[['PropertySize', 'HouseSize', 'Age', 'Rooms', 'Baths', 'Garage']]  # Independent variables\n",
        "y = data['AppraisedValue']  # Dependent variable\n",
        "\n",
        "\n",
        "X = sm.add_constant(X)\n",
        "\n",
        "\n",
        "model = sm.OLS(y, X)\n",
        "\n",
        "\n",
        "results = model.fit()\n",
        "\n",
        "\n",
        "print(results.summary())\n",
        "\n",
        "\n",
        "\n"
      ]
    },
    {
      "cell_type": "code",
      "source": [
        "#problem b\n",
        "from statsmodels.stats.outliers_influence import variance_inflation_factor\n",
        "# Function to calculate VIF for each feature\n",
        "def calculate_vif(X):\n",
        "    vif_data = pd.DataFrame()\n",
        "    vif_data[\"feature\"] = X.columns\n",
        "\n",
        "    # Calculating VIF for each feature\n",
        "    vif_data[\"VIF\"] = [variance_inflation_factor(X.values, i) for i in range(X.shape[1])]\n",
        "    return vif_data\n",
        "\n",
        "X_vif = X.drop(['const'], axis=1) if 'const' in X else X\n",
        "vif_df = calculate_vif(X_vif)\n",
        "print(vif_df)\n",
        "\n",
        "\n",
        "\n",
        "#problem c\n",
        "\n",
        "\n",
        "significant_vars = ['PropertySize', 'HouseSize', 'Age', 'Baths', 'Garage']  # Adjust based on your p-values\n",
        "\n",
        "\n",
        "X_significant = X[significant_vars]\n",
        "\n",
        "X_significant = sm.add_constant(X_significant)\n",
        "\n",
        "\n",
        "model_significant = sm.OLS(y, X_significant)\n",
        "\n",
        "\n",
        "results_significant = model_significant.fit()\n",
        "\n",
        "\n",
        "print(results_significant.summary())\n",
        "\n",
        "# Compare R-squared and Adjusted R-squared of both models\n",
        "print(\"Original Model R-squared: \", results.rsquared)\n",
        "print(\"Original Model Adjusted R-squared: \", results.rsquared_adj)\n",
        "print(\"New Model R-squared: \", results_significant.rsquared)\n",
        "print(\"New Model Adjusted R-squared: \", results_significant.rsquared_adj)\n"
      ],
      "metadata": {
        "colab": {
          "base_uri": "https://localhost:8080/"
        },
        "id": "Ix4iXg2cn0X7",
        "outputId": "9b15e46b-7ae4-4010-e1b0-b49dfe5a4267"
      },
      "execution_count": 9,
      "outputs": [
        {
          "output_type": "stream",
          "name": "stdout",
          "text": [
            "        feature        VIF\n",
            "0  PropertySize   5.324883\n",
            "1     HouseSize  34.823553\n",
            "2           Age   5.926381\n",
            "3         Rooms  24.344877\n",
            "4         Baths  13.090255\n",
            "5        Garage   3.807495\n",
            "                            OLS Regression Results                            \n",
            "==============================================================================\n",
            "Dep. Variable:         AppraisedValue   R-squared:                       0.835\n",
            "Model:                            OLS   Adj. R-squared:                  0.800\n",
            "Method:                 Least Squares   F-statistic:                     24.21\n",
            "Date:                Sun, 12 May 2024   Prob (F-statistic):           1.19e-08\n",
            "Time:                        16:39:52   Log-Likelihood:                -158.80\n",
            "No. Observations:                  30   AIC:                             329.6\n",
            "Df Residuals:                      24   BIC:                             338.0\n",
            "Df Model:                           5                                         \n",
            "Covariance Type:            nonrobust                                         \n",
            "================================================================================\n",
            "                   coef    std err          t      P>|t|      [0.025      0.975]\n",
            "--------------------------------------------------------------------------------\n",
            "const          123.9583     63.375      1.956      0.062      -6.841     254.757\n",
            "PropertySize     0.0690      0.020      3.408      0.002       0.027       0.111\n",
            "HouseSize        1.2833      0.272      4.711      0.000       0.721       1.846\n",
            "Age             -1.1912      0.560     -2.127      0.044      -2.347      -0.035\n",
            "Baths            5.9897     18.804      0.319      0.753     -32.821      44.800\n",
            "Garage          10.9872     16.714      0.657      0.517     -23.510      45.484\n",
            "==============================================================================\n",
            "Omnibus:                        1.405   Durbin-Watson:                   2.026\n",
            "Prob(Omnibus):                  0.495   Jarque-Bera (JB):                0.600\n",
            "Skew:                          -0.319   Prob(JB):                        0.741\n",
            "Kurtosis:                       3.268   Cond. No.                     7.50e+03\n",
            "==============================================================================\n",
            "\n",
            "Notes:\n",
            "[1] Standard Errors assume that the covariance matrix of the errors is correctly specified.\n",
            "[2] The condition number is large, 7.5e+03. This might indicate that there are\n",
            "strong multicollinearity or other numerical problems.\n",
            "Original Model R-squared:  0.8479071166632021\n",
            "Original Model Adjusted R-squared:  0.8082307123144722\n",
            "New Model R-squared:  0.8345156181557573\n",
            "New Model Adjusted R-squared:  0.80003970527154\n"
          ]
        }
      ]
    },
    {
      "cell_type": "code",
      "source": [
        "#problem d\n",
        "X_full = sm.add_constant(X)  # X includes all predictors\n",
        "model_full = sm.OLS(y, X_full)\n",
        "results_full = model_full.fit()\n",
        "\n",
        "# Reduced model: exclude 'Rooms' and 'Baths'\n",
        "X_reduced = X_full.drop(['Rooms', 'Baths'], axis=1)\n",
        "model_reduced = sm.OLS(y, X_reduced)\n",
        "results_reduced = model_reduced.fit()\n",
        "\n",
        "# Conduct the F-test\n",
        "f_test_result = results_full.compare_f_test(results_reduced)\n",
        "print(f\"F-statistic: {f_test_result[0]}, P-value: {f_test_result[1]}\")"
      ],
      "metadata": {
        "colab": {
          "base_uri": "https://localhost:8080/"
        },
        "id": "R_lfcCLKtWVt",
        "outputId": "ad9a1dd1-6404-44bf-84cc-3a9639d9ba09"
      },
      "execution_count": 13,
      "outputs": [
        {
          "output_type": "stream",
          "name": "stdout",
          "text": [
            "F-statistic: 1.065451053324123, P-value: 0.3609750723572645\n"
          ]
        }
      ]
    },
    {
      "cell_type": "code",
      "source": [
        "#pr e\n",
        "new_data = pd.DataFrame({\n",
        "    'const': 1,  # Include this if your model has an intercept\n",
        "    'PropertySize': [400],\n",
        "    'HouseSize': [190],\n",
        "    'Age': [30],\n",
        "    'Rooms': [2],\n",
        "    'Baths': [1],\n",
        "    'Garage': [0]\n",
        "})\n",
        "\n",
        "predicted_value = results.predict(new_data)\n",
        "print(\"Predicted Appraised Value:\", predicted_value[0])"
      ],
      "metadata": {
        "colab": {
          "base_uri": "https://localhost:8080/"
        },
        "id": "MYhn4pBYrg92",
        "outputId": "5f25af91-0626-4f63-89c7-e60c95ff2936"
      },
      "execution_count": 14,
      "outputs": [
        {
          "output_type": "stream",
          "name": "stdout",
          "text": [
            "Predicted Appraised Value: 307.7179633472548\n"
          ]
        }
      ]
    },
    {
      "cell_type": "code",
      "source": [
        "# pr f\n",
        "\n",
        "new_data = pd.DataFrame({\n",
        "    'const': 1,  # include if your model includes an intercept\n",
        "    'PropertySize': [400],\n",
        "    'HouseSize': [190],\n",
        "    'Age': [30],\n",
        "    'Rooms': [2],\n",
        "    'Baths': [1],\n",
        "    'Garage': [0]\n",
        "})\n",
        "\n",
        "\n",
        "prediction = results.get_prediction(new_data)\n",
        "prediction_summary = prediction.summary_frame(alpha=0.10)  # 90% CI, so alpha is 0.10\n",
        "\n",
        "\n",
        "predicted_value = prediction_summary['mean'][0]\n",
        "ci_lower = prediction_summary['mean_ci_lower'][0]\n",
        "ci_upper = prediction_summary['mean_ci_upper'][0]\n",
        "\n",
        "\n",
        "print(f\"Predicted Appraised Value: {predicted_value}\")\n",
        "print(f\"90% Confidence Interval for the Appraised Value: ({ci_lower}, {ci_upper})\")"
      ],
      "metadata": {
        "colab": {
          "base_uri": "https://localhost:8080/"
        },
        "id": "CO_ZPsLxt1PT",
        "outputId": "11abb4ed-6160-441d-ceb9-bf901a93193b"
      },
      "execution_count": 16,
      "outputs": [
        {
          "output_type": "stream",
          "name": "stdout",
          "text": [
            "Predicted Appraised Value: 307.7179633472548\n",
            "90% Confidence Interval for the Appraised Value: (216.99847831090347, 398.4374483836061)\n"
          ]
        }
      ]
    },
    {
      "cell_type": "code",
      "source": [
        "# pr g\n",
        "\n",
        "\n",
        "# Print the predicted value and the prediction interval\n",
        "print(f\"Predicted Appraised Value: {predicted_value}\")\n",
        "print(f\"90% Prediction Interval for the Appraised Value: ({pi_lower}, {pi_upper})\")"
      ],
      "metadata": {
        "colab": {
          "base_uri": "https://localhost:8080/"
        },
        "id": "gRiIWzYSuD17",
        "outputId": "1b49a6dc-2781-45a9-e4cd-b90cf5e80688"
      },
      "execution_count": 18,
      "outputs": [
        {
          "output_type": "stream",
          "name": "stdout",
          "text": [
            "Predicted Appraised Value: 307.7179633472548\n",
            "90% Prediction Interval for the Appraised Value: (179.68066862165628, 435.7552580728533)\n"
          ]
        }
      ]
    },
    {
      "cell_type": "code",
      "source": [
        "#pr g\n",
        "X_simple = sm.add_constant(X['HouseSize'])\n",
        "model_simple = sm.OLS(y, X_simple)\n",
        "results_simple = model_simple.fit()\n",
        "\n",
        "X_full = sm.add_constant(X)\n",
        "model_full = sm.OLS(y, X_full)\n",
        "results_full = model_full.fit()\n",
        "\n",
        "# Conduct the F-test\n",
        "f_test_result = results_full.compare_f_test(results_simple)\n",
        "print(f\"F-statistic: {f_test_result[0]}, P-value: {f_test_result[1]}\")"
      ],
      "metadata": {
        "colab": {
          "base_uri": "https://localhost:8080/"
        },
        "id": "tvTTvlCau2ax",
        "outputId": "1cde174d-b9d8-48a2-f5ed-cd77a9ef9f50"
      },
      "execution_count": 21,
      "outputs": [
        {
          "output_type": "stream",
          "name": "stdout",
          "text": [
            "F-statistic: 4.872655775993235, P-value: 0.003481400591825817\n"
          ]
        }
      ]
    },
    {
      "cell_type": "code",
      "source": [],
      "metadata": {
        "id": "ECn7IRdKvLVb"
      },
      "execution_count": null,
      "outputs": []
    }
  ]
}