{
  "cells": [
    {
      "cell_type": "code",
      "execution_count": 23,
      "metadata": {
        "colab": {
          "base_uri": "https://localhost:8080/"
        },
        "id": "DA1qE6uqM8Au",
        "outputId": "e1cad860-38ce-440f-8b26-072a94148e64"
      },
      "outputs": [
        {
          "output_type": "stream",
          "name": "stdout",
          "text": [
            "0.2044816017150879\n",
            "2.833147883415222\n"
          ]
        }
      ],
      "source": [
        "import numpy as np\n",
        "\n",
        "# problem 3 - c\n",
        "def bisection(f, a, b, epsilon):\n",
        "    mid = a + (b-a) / 2\n",
        "    while abs(f(mid)) >= epsilon:\n",
        "        if f(a) * f(mid) < 0:\n",
        "            b = mid\n",
        "        else:\n",
        "            a = mid\n",
        "        mid = (a + b) / 2\n",
        "    return mid\n",
        "\n",
        "epsilon = 10**-6\n",
        "f = lambda x: np.e**x - 6*x\n",
        "a = 0\n",
        "b = 1\n",
        "\n",
        "print(bisection(f, a, b, epsilon))\n",
        "\n",
        "a = 2\n",
        "b = 4\n",
        "print(bisection(f, a, b, epsilon))"
      ]
    },
    {
      "cell_type": "code",
      "source": [
        "\n",
        "# problem 5\n",
        "f = lambda x:(1/x)- np.tan(x)\n",
        "a = 0.1\n",
        "b = np.pi/3\n",
        "\n",
        "def bisec(a, b):\n",
        "  mid = (a+b)/2\n",
        "  if abs(a - b) < 10**-4:\n",
        "    return mid\n",
        "  if f(a) * f(mid) < 0:\n",
        "    return bisec(a, mid)\n",
        "  else:\n",
        "    return bisec(mid, b)\n",
        "\n",
        "print(bisec(a, b))"
      ],
      "metadata": {
        "colab": {
          "base_uri": "https://localhost:8080/"
        },
        "id": "vtwzbb-PZbjr",
        "outputId": "6cf65294-c3fa-4772-b16c-7b08e4ff434e"
      },
      "execution_count": 15,
      "outputs": [
        {
          "output_type": "stream",
          "name": "stdout",
          "text": [
            "0.8603191280860629\n"
          ]
        }
      ]
    },
    {
      "cell_type": "code",
      "source": [
        "# problem 6\n",
        "\n",
        "seq_a = np.array([2])\n",
        "seq_b = np.array([2])\n",
        "seq_c = np.array([1, 2])\n",
        "\n",
        "n_0 = 30\n",
        "for i in range(1, n_0):\n",
        "   a = seq_a[i - 1] - 1 + 2 / np.exp(seq_a[i - 1])\n",
        "   seq_a = np.append(seq_a, a)\n",
        "   #print(\"abserr of seq_a is \", abs(seq_a[i] - seq_a[i - 1]), \"  n is \", i)\n",
        "#print(\"this was quadratic convergence, since we can see patern of doibling zeros\")\n",
        "\n",
        "for i in range(1, n_0):\n",
        "  b = seq_b[i-1] + 1/5 - (np.e**seq_b[i-1])/10\n",
        "  seq_b = np.append(seq_b, b)\n",
        "  #print(\"abserr of seq_b is \", abs(seq_b[i] - seq_b[i - 1]), \"  n is \", i)\n",
        "#print(\"this was linear convergence, after fixed 9 or 10 period number of zeros increase by 1\"\n",
        "\n",
        "for i in range(1, n_0):\n",
        "  c = seq_c[i - 1] - ((seq_c[i - 1] - seq_c[i - 2]) / (np.exp(seq_c[i - 1]) - np.exp(seq_c[i - 2]))) * (np.exp(seq_c[i - 1] - 2))\n",
        "  seq_c = np.append(seq_c, c)\n",
        "  #print(\"abserr of seq_c is \", abs(seq_c[i] - seq_c[i - 1]), \"  n is \", i)\n",
        "#print(\"this is sublinear convergence, since we notice that zeros appear slower than in linear case\")\n"
      ],
      "metadata": {
        "id": "8hw2gXarZk9c"
      },
      "execution_count": 7,
      "outputs": []
    }
  ],
  "metadata": {
    "colab": {
      "provenance": []
    },
    "kernelspec": {
      "display_name": "Python 3",
      "name": "python3"
    },
    "language_info": {
      "name": "python"
    }
  },
  "nbformat": 4,
  "nbformat_minor": 0
}