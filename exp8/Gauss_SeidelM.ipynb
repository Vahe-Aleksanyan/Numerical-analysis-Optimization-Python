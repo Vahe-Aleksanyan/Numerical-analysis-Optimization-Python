{
  "nbformat": 4,
  "nbformat_minor": 0,
  "metadata": {
    "colab": {
      "provenance": []
    },
    "kernelspec": {
      "name": "python3",
      "display_name": "Python 3"
    },
    "language_info": {
      "name": "python"
    }
  },
  "cells": [
    {
      "cell_type": "code",
      "execution_count": null,
      "metadata": {
        "colab": {
          "base_uri": "https://localhost:8080/"
        },
        "id": "Jo_-Ib4J74y7",
        "outputId": "4c29db2e-36cd-4488-8fbf-861a7d77e831"
      },
      "outputs": [
        {
          "output_type": "stream",
          "name": "stdout",
          "text": [
            "Solution using Gauss-Seidel method: [2. 2. 2.]\n"
          ]
        }
      ],
      "source": [
        "import numpy as np\n",
        "\n",
        "def Gauss_SeidelM(A, b, N):\n",
        "    # Check if A is a square matrix\n",
        "    if len(A) != len(A[0]):\n",
        "        raise ValueError(\"Matrix A must be square\")\n",
        "\n",
        "    # Check if the length of b matches the number of rows in A\n",
        "    if len(A) != len(b):\n",
        "        raise ValueError(\"Length of vector b must match the number of rows in matrix A\")\n",
        "\n",
        "    # Initialize the solution vector x with zeros\n",
        "    x = np.zeros(len(b))\n",
        "\n",
        "    # Perform iterations\n",
        "    for _ in range(N):\n",
        "        for i in range(len(b)):\n",
        "            # Calculate the new value of x[i]\n",
        "            x[i] = (b[i] - np.dot(A[i][:i], x[:i]) - np.dot(A[i][i+1:], x[i+1:])) / A[i][i]\n",
        "\n",
        "    return x\n",
        "\n",
        "# Define the coefficient matrix A and the constant vector b\n",
        "A = np.array([[5, -1, 3],\n",
        "              [-2, 4, -1],\n",
        "              [2, -2, 5]])\n",
        "\n",
        "b = np.array([14, 2, 10])\n",
        "\n",
        "# Set the number of iterations\n",
        "N = 50\n",
        "\n",
        "# Call the Gauss_SeidelM function\n",
        "solution = Gauss_SeidelM(A, b, N)\n",
        "\n",
        "# Print the solution\n",
        "print(\"Solution using Gauss-Seidel method:\", solution)\n"
      ]
    }
  ]
}