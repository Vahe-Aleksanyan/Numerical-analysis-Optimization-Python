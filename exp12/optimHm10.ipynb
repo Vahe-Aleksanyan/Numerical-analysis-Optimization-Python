{
  "nbformat": 4,
  "nbformat_minor": 0,
  "metadata": {
    "colab": {
      "provenance": []
    },
    "kernelspec": {
      "name": "python3",
      "display_name": "Python 3"
    },
    "language_info": {
      "name": "python"
    }
  },
  "cells": [
    {
      "cell_type": "code",
      "execution_count": 4,
      "metadata": {
        "colab": {
          "base_uri": "https://localhost:8080/"
        },
        "id": "4NBdElNWsHby",
        "outputId": "e9750951-0b76-494a-bfd0-d8ba8990a893"
      },
      "outputs": [
        {
          "output_type": "stream",
          "name": "stdout",
          "text": [
            "Final solution: x1 = 1.0000000212747175, x2 = 1.0000000212747175, f(x1, x2) = -1.0000000425494355\n",
            "Results at each step: [-1.3333333333333333, -1.0256410256410253, -1.0025062656641572, -1.0002500625155764, -1.0000250006244618, -1.0000025000006998, -1.000000249944554, -1.0000000244448912]\n"
          ]
        },
        {
          "output_type": "stream",
          "name": "stderr",
          "text": [
            "<ipython-input-4-a9fb5c7220e0>:39: RuntimeWarning: invalid value encountered in scalar divide\n",
            "  if abs(prev_result - res.fun) / (abs(prev_result) + np.finfo(float).eps) < tol:\n"
          ]
        }
      ],
      "source": [
        "import numpy as np\n",
        "from scipy.optimize import minimize\n",
        "\n",
        "\n",
        "def f(x):\n",
        "    x1, x2 = x\n",
        "    return -x1 * x2\n",
        "\n",
        "\n",
        "def g(x):\n",
        "    x1, x2 = x\n",
        "    return x1 + x2 - 2\n",
        "\n",
        "\n",
        "def q(x, ck):\n",
        "    return f(x) + ck * g(x)**2\n",
        "\n",
        "x0 = np.array([1, 1])\n",
        "\n",
        "\n",
        "ck = 1.0\n",
        "\n",
        "tol = 1e-6\n",
        "\n",
        "\n",
        "prev_result = float('inf')\n",
        "\n",
        "\n",
        "results = []\n",
        "\n",
        "while True:\n",
        "    res = minimize(q, x0, args=(ck,))\n",
        "    results.append(res.fun)\n",
        "\n",
        "\n",
        "    x0 = res.x\n",
        "\n",
        "\n",
        "    if abs(prev_result - res.fun) / (abs(prev_result) + np.finfo(float).eps) < tol:\n",
        "        break\n",
        "\n",
        "\n",
        "    prev_result = res.fun\n",
        "\n",
        "\n",
        "    ck *= 10\n",
        "\n",
        "# Output results\n",
        "final_x1, final_x2 = x0\n",
        "final_f = f(x0)\n",
        "print(f\"Final solution: x1 = {final_x1}, x2 = {final_x2}, f(x1, x2) = {final_f}\")\n",
        "print(f\"Results at each step: {results}\")\n"
      ]
    },
    {
      "cell_type": "code",
      "source": [
        "import numpy as np\n",
        "from scipy.optimize import linprog\n",
        "\n",
        "\n",
        "c = [-1, 4]\n",
        "\n",
        "\n",
        "A = np.array([\n",
        "    [2, -1],     # 2x1 - x2 <= 2\n",
        "    [-2, -3],    # -2x1 - 3x2 <= -10 (rearranged from 2x1 + 3x2 >= 10)\n",
        "    [-3, 1]      # -3x1 + x2 <= 6\n",
        "])\n",
        "\n",
        "\n",
        "b = [2, -10, 6]\n",
        "\n",
        "\n",
        "x_bounds = [(0, None),  # x1 >= 0\n",
        "            (0, None)]  # x2 >= 0\n",
        "\n",
        "\n",
        "res = linprog(c, A_ub=A, b_ub=b, bounds=x_bounds, method='highs')\n",
        "\n",
        "\n",
        "if res.success:\n",
        "    print(f\"Optimal value: {res.fun:.2f}\")\n",
        "    print(f\"Optimal solution: x1 = {res.x[0]:.2f}, x2 = {res.x[1]:.2f}\")\n",
        "else:\n",
        "    print(\"Optimization did not converge\")\n"
      ],
      "metadata": {
        "colab": {
          "base_uri": "https://localhost:8080/"
        },
        "id": "n3ZJ12KStViy",
        "outputId": "10237da7-5070-4ed5-ad15-90b6544e00fc"
      },
      "execution_count": 5,
      "outputs": [
        {
          "output_type": "stream",
          "name": "stdout",
          "text": [
            "Optimal value: 6.00\n",
            "Optimal solution: x1 = 2.00, x2 = 2.00\n"
          ]
        }
      ]
    },
    {
      "cell_type": "markdown",
      "source": [
        "We get the same result as we have done woth manual calculation"
      ],
      "metadata": {
        "id": "2TG9iiLxtmBi"
      }
    }
  ]
}