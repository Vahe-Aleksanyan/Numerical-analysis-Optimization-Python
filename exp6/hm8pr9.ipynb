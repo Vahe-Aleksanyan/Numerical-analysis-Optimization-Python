{
  "nbformat": 4,
  "nbformat_minor": 0,
  "metadata": {
    "colab": {
      "provenance": []
    },
    "kernelspec": {
      "name": "python3",
      "display_name": "Python 3"
    },
    "language_info": {
      "name": "python"
    }
  },
  "cells": [
    {
      "cell_type": "code",
      "execution_count": 4,
      "metadata": {
        "colab": {
          "base_uri": "https://localhost:8080/"
        },
        "id": "1FO7wP4Gv5qB",
        "outputId": "2761c6cd-77cd-433e-cfef-26db3438b4b2"
      },
      "outputs": [
        {
          "output_type": "stream",
          "name": "stdout",
          "text": [
            "n = 0: Gauss Quadrature Result = 0.25\n",
            "n = 1: Gauss Quadrature Result = 0.33333333333333337\n",
            "n = 2: Gauss Quadrature Result = 0.33333333333333337\n",
            "n = 3: Gauss Quadrature Result = 0.33333333333333326\n",
            "n = 4: Gauss Quadrature Result = 0.33333333333333337\n",
            "n = 5: Gauss Quadrature Result = 0.33333333333333326\n",
            "n = 6: Gauss Quadrature Result = 0.3333333333333335\n",
            "n = 7: Gauss Quadrature Result = 0.3333333333333333\n",
            "n = 8: Gauss Quadrature Result = 0.3333333333333334\n",
            "n = 9: Gauss Quadrature Result = 0.33333333333333326\n",
            "n = 10: Gauss Quadrature Result = 0.33333333333333337\n",
            "n = 0: Gauss Quadrature Result = 0.7357588823428847\n",
            "n = 1: Gauss Quadrature Result = 0.9194861166409164\n",
            "n = 2: Gauss Quadrature Result = 0.8788645708774947\n",
            "n = 3: Gauss Quadrature Result = 0.8822290959326037\n",
            "n = 4: Gauss Quadrature Result = 0.88207801766299\n",
            "n = 5: Gauss Quadrature Result = 0.8820813553517312\n",
            "n = 6: Gauss Quadrature Result = 0.8820813975534478\n",
            "n = 7: Gauss Quadrature Result = 0.8820813904198997\n",
            "n = 8: Gauss Quadrature Result = 0.8820813907741588\n",
            "n = 9: Gauss Quadrature Result = 0.8820813907621078\n",
            "n = 10: Gauss Quadrature Result = 0.8820813907624286\n"
          ]
        }
      ],
      "source": [
        "import numpy as np\n",
        "\n",
        "def gauss_quadrature_rule(f, a, b, n):\n",
        "    # Get the nodes (roots) and weights for the chosen weight function\n",
        "    nodes, weights = np.polynomial.legendre.leggauss(n + 1)\n",
        "\n",
        "    # Map nodes from the interval [-1, 1] to [a, b]\n",
        "    mapped_nodes = 0.5 * (b - a) * nodes + 0.5 * (a + b)\n",
        "\n",
        "    # Calculate the integral using the Gauss Quadrature rule\n",
        "    result = sum(w * f(x) for x, w in zip(mapped_nodes, weights))\n",
        "\n",
        "    # Adjust the result based on the interval transformation\n",
        "    result *= 0.5 * (b - a)\n",
        "\n",
        "    return result\n",
        "\n",
        "# Example Usage:\n",
        "# Define the function to be integrated\n",
        "def my_function(x):\n",
        "    return x**2\n",
        "\n",
        "# Set the interval [a, b]\n",
        "a = 0\n",
        "b = 1\n",
        "\n",
        "# Test the Gauss Quadrature Rule for n = 0, 1, ..., 10\n",
        "for n in range(11):\n",
        "    gauss_result = gauss_quadrature_rule(my_function, a, b, n)\n",
        "    print(f\"n = {n}: Gauss Quadrature Result = {gauss_result}\")\n",
        "\n",
        "\n",
        "\n",
        "def gauss_quadrature_rule(f, a, b, n):\n",
        "    nodes, weights = np.polynomial.legendre.leggauss(n + 1)\n",
        "    mapped_nodes = 0.5 * (b - a) * nodes + 0.5 * (a + b)\n",
        "    result = sum(w * f(x) for x, w in zip(mapped_nodes, weights))\n",
        "    result *= 0.5 * (b - a)\n",
        "    return result\n",
        "\n",
        "# Define the function to be integrated\n",
        "def my_function(x):\n",
        "    return np.exp(-x**2)\n",
        "\n",
        "# Set the interval for the Gaussian Quadrature Rule\n",
        "a = 0\n",
        "b = 2\n",
        "\n",
        "# Test the Gauss Quadrature Rule for n = 0, 1, ..., 10\n",
        "for n in range(11):\n",
        "    gauss_result = gauss_quadrature_rule(my_function, a, b, n)\n",
        "    print(f\"n = {n}: Gauss Quadrature Result = {gauss_result}\")\n"
      ]
    },
    {
      "cell_type": "code",
      "source": [],
      "metadata": {
        "id": "xZrxC4iNwEIz"
      },
      "execution_count": null,
      "outputs": []
    }
  ]
}