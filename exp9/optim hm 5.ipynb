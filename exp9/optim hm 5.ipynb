{
  "nbformat": 4,
  "nbformat_minor": 0,
  "metadata": {
    "colab": {
      "provenance": []
    },
    "kernelspec": {
      "name": "python3",
      "display_name": "Python 3"
    },
    "language_info": {
      "name": "python"
    }
  },
  "cells": [
    {
      "cell_type": "code",
      "execution_count": 4,
      "metadata": {
        "colab": {
          "base_uri": "https://localhost:8080/"
        },
        "id": "yUzBK4X2yq-5",
        "outputId": "f678e3d2-e626-4e1a-88e0-aae91ba43fac"
      },
      "outputs": [
        {
          "output_type": "stream",
          "name": "stdout",
          "text": [
            "Armijo Backtracking:\n",
            "Minimum point: [4.34142836e-09 0.00000000e+00]\n",
            "Number of iterations: 12\n"
          ]
        }
      ],
      "source": [
        "import numpy as np\n",
        "\n",
        "# Define the objective function\n",
        "def f(x):\n",
        "    return (x[0]**2 + 1)**2 + x[1]**2\n",
        "\n",
        "# Define the gradient of the objective function\n",
        "def grad_f(x):\n",
        "    return np.array([4*x[0]*(x[0]**2 + 1), 2*x[1]])\n",
        "\n",
        "# Armijo backtracking algorithm with fixed initial step size\n",
        "def armijo_line_search(x, grad, alpha_init=1.0, beta=0.5, sigma=1e-4):\n",
        "    alpha = alpha_init\n",
        "    while f(x - alpha * grad) > f(x) - sigma * alpha * np.dot(grad, grad):\n",
        "        alpha *= beta\n",
        "    return alpha\n",
        "\n",
        "# Gradient descent with Armijo backtracking line search\n",
        "def gradient_descent_armijo(x0, epsilon):\n",
        "    x = x0\n",
        "    k = 0\n",
        "    while np.linalg.norm(grad_f(x)) > epsilon:\n",
        "        grad = grad_f(x)\n",
        "        alpha = armijo_line_search(x, grad)\n",
        "        x = x - alpha * grad\n",
        "        k += 1\n",
        "    return x, k\n",
        "\n",
        "# Initial point\n",
        "x0 = np.array([25, 20])\n",
        "# Stopping criterion\n",
        "epsilon = 1e-3\n",
        "\n",
        "# Perform gradient descent with Armijo backtracking line search\n",
        "x_armijo, k_armijo = gradient_descent_armijo(x0, epsilon)\n",
        "\n",
        "# Print results\n",
        "print(\"Armijo Backtracking:\")\n",
        "print(\"Minimum point:\", x_armijo)\n",
        "print(\"Number of iterations:\", k_armijo)\n"
      ]
    }
  ]
}